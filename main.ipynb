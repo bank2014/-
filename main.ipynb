{
 "cells": [
  {
   "cell_type": "code",
   "execution_count": 227,
   "id": "27df675f",
   "metadata": {
    "scrolled": false
   },
   "outputs": [],
   "source": [
    "import pandas as pd\n",
    "import numpy as np\n",
    "import matplotlib.pyplot as plt"
   ]
  },
  {
   "cell_type": "code",
   "execution_count": 235,
   "id": "a27a1385",
   "metadata": {
    "scrolled": false
   },
   "outputs": [
    {
     "name": "stdout",
     "output_type": "stream",
     "text": [
      "          id  clump  cell_size  cell_shape  adhesion  epithlial bare_nuclei  \\\n",
      "0    1000025      5          1           1         1          2           1   \n",
      "1    1002945      5          4           4         5          7          10   \n",
      "2    1015425      3          1           1         1          2           2   \n",
      "3    1016277      6          8           8         1          3           4   \n",
      "4    1017023      4          1           1         3          2           1   \n",
      "..       ...    ...        ...         ...       ...        ...         ...   \n",
      "694   776715      3          1           1         1          3           2   \n",
      "695   841769      2          1           1         1          2           1   \n",
      "696   888820      5         10          10         3          7           3   \n",
      "697   897471      4          8           6         4          3           4   \n",
      "698   897471      4          8           8         5          4           5   \n",
      "\n",
      "     chromatin  normal_nucleoli  mitoses  class  \n",
      "0            3                1        1      2  \n",
      "1            3                2        1      2  \n",
      "2            3                1        1      2  \n",
      "3            3                7        1      2  \n",
      "4            3                1        1      2  \n",
      "..         ...              ...      ...    ...  \n",
      "694          1                1        1      2  \n",
      "695          1                1        1      2  \n",
      "696          8               10        2      4  \n",
      "697         10                6        1      4  \n",
      "698         10                4        1      4  \n",
      "\n",
      "[699 rows x 11 columns]\n",
      "<class 'pandas.core.frame.DataFrame'>\n",
      "RangeIndex: 699 entries, 0 to 698\n",
      "Data columns (total 11 columns):\n",
      " #   Column           Non-Null Count  Dtype \n",
      "---  ------           --------------  ----- \n",
      " 0   id               699 non-null    int64 \n",
      " 1   clump            699 non-null    int64 \n",
      " 2   cell_size        699 non-null    int64 \n",
      " 3   cell_shape       699 non-null    int64 \n",
      " 4   adhesion         699 non-null    int64 \n",
      " 5   epithlial        699 non-null    int64 \n",
      " 6   bare_nuclei      699 non-null    object\n",
      " 7   chromatin        699 non-null    int64 \n",
      " 8   normal_nucleoli  699 non-null    int64 \n",
      " 9   mitoses          699 non-null    int64 \n",
      " 10  class            699 non-null    int64 \n",
      "dtypes: int64(10), object(1)\n",
      "memory usage: 60.2+ KB\n",
      "None\n",
      "['1' '10' '2' '4' '3' '9' '7' '?' '5' '8' '6']\n"
     ]
    }
   ],
   "source": [
    "df = pd.read_csv('breast-cancer-wisconsin.csv', header=None)\n",
    "\n",
    "df.columns = ['id','clump','cell_size','cell_shape', 'adhesion','epithlial',\n",
    "              'bare_nuclei','chromatin','normal_nucleoli', 'mitoses', 'class'] \n",
    "\n",
    "print(df)   # class 2: 양성, class 4: 악성\n",
    "print(df.info())  \n",
    "\n",
    "print(df['bare_nuclei'].unique()) #bare_nuclei만 object이므로 누락행 확인\n",
    "df['bare_nuclei'].replace('?', np.nan, inplace=True)      # ?을 nan으로 변환\n",
    "df.dropna(subset=['bare_nuclei'], axis=0, inplace=True)   # 결측값이 있는 행 삭제\n",
    "df['bare_nuclei'] = df['bare_nuclei'].astype('int64')      # object형인 bare_nuclei를 int형으로 변환"
   ]
  },
  {
   "cell_type": "code",
   "execution_count": 238,
   "id": "9cd9518a",
   "metadata": {
    "scrolled": true
   },
   "outputs": [
    {
     "name": "stdout",
     "output_type": "stream",
     "text": [
      "<class 'pandas.core.frame.DataFrame'>\n",
      "Int64Index: 683 entries, 0 to 698\n",
      "Data columns (total 11 columns):\n",
      " #   Column           Non-Null Count  Dtype\n",
      "---  ------           --------------  -----\n",
      " 0   id               683 non-null    int64\n",
      " 1   clump            683 non-null    int64\n",
      " 2   cell_size        683 non-null    int64\n",
      " 3   cell_shape       683 non-null    int64\n",
      " 4   adhesion         683 non-null    int64\n",
      " 5   epithlial        683 non-null    int64\n",
      " 6   bare_nuclei      683 non-null    int64\n",
      " 7   chromatin        683 non-null    int64\n",
      " 8   normal_nucleoli  683 non-null    int64\n",
      " 9   mitoses          683 non-null    int64\n",
      " 10  class            683 non-null    int64\n",
      "dtypes: int64(11)\n",
      "memory usage: 64.0 KB\n",
      "[ 1 10  2  4  3  9  7  5  8  6]\n"
     ]
    }
   ],
   "source": [
    "df.info() # 모든 열이 int형으로 변환 되었음을 확인\n",
    "print(df['bare_nuclei'].unique()) # 누락 행이 삭제 되었음을 확인"
   ]
  },
  {
   "cell_type": "markdown",
   "id": "745aa271",
   "metadata": {},
   "source": [
    "# 유방암 분류 데이터셋 분석 "
   ]
  },
  {
   "cell_type": "markdown",
   "id": "6b1d1eb7",
   "metadata": {},
   "source": [
    "### 세포의 평균 크기와 모양과의 연관성 "
   ]
  },
  {
   "cell_type": "code",
   "execution_count": 273,
   "id": "0d0a683f",
   "metadata": {
    "scrolled": true
   },
   "outputs": [
    {
     "data": {
      "text/plain": [
       "<matplotlib.legend.Legend at 0x2c9d38b12e0>"
      ]
     },
     "execution_count": 273,
     "metadata": {},
     "output_type": "execute_result"
    },
    {
     "data": {
      "image/png": "[encoded data removed]",
      "text/plain": [
       "<Figure size 864x288 with 1 Axes>"
      ]
     },
     "metadata": {
      "needs_background": "light"
     },
     "output_type": "display_data"
    }
   ],
   "source": [
    "gb_cell_size= df.groupby(\"class\")[['cell_size','cell_shape']].mean()\n",
    "\n",
    "ax = gb_cell_size.plot(kind='bar', title='size and shape', figsize=(12, 4), legend=True, fontsize=12)\n",
    "ax.set_xlabel('2: benign tumor  4: malignant tumor', fontsize=12)         \n",
    "ax.set_ylabel('size/shape', fontsize=12)   \n",
    "ax.legend(['size', 'shape'], fontsize=12)  "
   ]
  },
  {
   "cell_type": "markdown",
   "id": "916b3a7f",
   "metadata": {},
   "source": [
    "### 종양의 유착력(adhesion)과의 연관성"
   ]
  },
  {
   "cell_type": "code",
   "execution_count": 271,
   "id": "20d4a918",
   "metadata": {
    "scrolled": false
   },
   "outputs": [
    {
     "name": "stdout",
     "output_type": "stream",
     "text": [
      "class\n",
      "2    1.346847\n",
      "4    5.585774\n",
      "Name: adhesion, dtype: float64\n"
     ]
    },
    {
     "data": {
      "image/png": "[encoded data removed]",
      "text/plain": [
       "<Figure size 864x288 with 1 Axes>"
      ]
     },
     "metadata": {
      "needs_background": "light"
     },
     "output_type": "display_data"
    }
   ],
   "source": [
    "gb_adhension = df.groupby('class')['adhesion'].mean()\n",
    "\n",
    "ax = gb_adhension.plot(kind='bar', title='adhesion', figsize=(12, 4), legend=True, fontsize=12)\n",
    "ax.set_xlabel('2: benign tumor  4: malignant tumor', fontsize=12)         \n",
    "ax.set_ylabel('adhesion', fontsize=12)   \n",
    "ax.legend(['adhesion'], fontsize=12)  \n",
    "\n",
    "print(gb_adhension)"
   ]
  },
  {
   "cell_type": "markdown",
   "id": "5f37ea16",
   "metadata": {},
   "source": [
    "### 종양의 염색질(chromatin)과의 연관성"
   ]
  },
  {
   "cell_type": "code",
   "execution_count": 276,
   "id": "f4afd2c8",
   "metadata": {},
   "outputs": [
    {
     "data": {
      "text/plain": [
       "<matplotlib.legend.Legend at 0x2c9da738100>"
      ]
     },
     "execution_count": 276,
     "metadata": {},
     "output_type": "execute_result"
    },
    {
     "data": {
      "image/png": "[encoded data removed]",
      "text/plain": [
       "<Figure size 864x288 with 1 Axes>"
      ]
     },
     "metadata": {
      "needs_background": "light"
     },
     "output_type": "display_data"
    }
   ],
   "source": [
    "gd_chromatin = df.groupby('class')['chromatin'].mean()\n",
    "\n",
    "ax = gb_adhension.plot(kind='bar', title='chromatin', figsize=(12, 4), legend=True, fontsize=12)\n",
    "ax.set_xlabel('2: benign tumor  4: malignant tumor', fontsize=12)         \n",
    "ax.set_ylabel('chromatin', fontsize=12)   \n",
    "ax.legend(['chromatin'], fontsize=12)  "
   ]
  },
  {
   "cell_type": "markdown",
   "id": "dd78b6cd",
   "metadata": {},
   "source": [
    "# 의사 결정 트리 모델로 유방 암 판별"
   ]
  },
  {
   "cell_type": "code",
   "execution_count": 239,
   "id": "c95d6191",
   "metadata": {
    "scrolled": true
   },
   "outputs": [
    {
     "name": "stdout",
     "output_type": "stream",
     "text": [
      "[4 4 4 4 4 4 2 2 4 4 4 2 2 4 4 2 2 4 2 4 2 2 2 2 4 2 2 2 2 2]\n",
      "[4 4 4 4 4 4 2 2 4 4 4 2 2 4 4 2 2 4 2 4 2 2 2 2 4 2 2 2 2 2]\n"
     ]
    }
   ],
   "source": [
    "X=df[['clump','cell_size','cell_shape', 'adhesion','epithlial',\n",
    "      'bare_nuclei','chromatin','normal_nucleoli', 'mitoses']]  #설명 변수 X\n",
    "y=df['class']        #예측 변수로 사용할 'class'\n",
    "\n",
    "from sklearn import preprocessing\n",
    "X = preprocessing.StandardScaler().fit(X).transform(X)\n",
    "\n",
    "from sklearn.model_selection import train_test_split\n",
    "X_train, X_test, y_train, y_test = train_test_split(X, y, test_size=0.3, random_state=10) \n",
    "\n",
    "from sklearn import tree\n",
    "tree_model = tree.DecisionTreeClassifier(criterion='entropy', max_depth=5) \n",
    "tree_model.fit(X_train, y_train)        \n",
    "y_hat = tree_model.predict(X_test)   # 2: 양성 4: 악성\n",
    "\n",
    "print(y_hat[0:30])\n",
    "print(y_test.values[0:30])"
   ]
  },
  {
   "cell_type": "markdown",
   "id": "86f398b5",
   "metadata": {},
   "source": [
    "# 모델 평가"
   ]
  },
  {
   "cell_type": "code",
   "execution_count": 231,
   "id": "cbee55e6",
   "metadata": {
    "scrolled": true
   },
   "outputs": [
    {
     "name": "stdout",
     "output_type": "stream",
     "text": [
      "[[127   4]\n",
      " [  2  72]]\n"
     ]
    }
   ],
   "source": [
    "from sklearn import metrics \n",
    "tree_matrix = metrics.confusion_matrix(y_test, y_hat)  \n",
    "print(tree_matrix)\n",
    "\n",
    "# 양성을 정확하게 예측한 TP는 127개\n",
    "# 양성을 악성으로 잘못 분류한 FP는 4개\n",
    "# 악성을 양성으로 잘못 분류한 FN은 2개\n",
    "# 악성을 정확하게 예측한 TN은 72개"
   ]
  },
  {
   "cell_type": "code",
   "execution_count": 232,
   "id": "6da42704",
   "metadata": {
    "scrolled": false
   },
   "outputs": [
    {
     "name": "stdout",
     "output_type": "stream",
     "text": [
      "              precision    recall  f1-score   support\n",
      "\n",
      "           2       0.98      0.97      0.98       131\n",
      "           4       0.95      0.97      0.96        74\n",
      "\n",
      "    accuracy                           0.97       205\n",
      "   macro avg       0.97      0.97      0.97       205\n",
      "weighted avg       0.97      0.97      0.97       205\n",
      "\n"
     ]
    }
   ],
   "source": [
    "tree_report = metrics.classification_report(y_test, y_hat)            \n",
    "print(tree_report)\n",
    "\n",
    "# f1-csore 지표 기준으로\n",
    "#양성 종양(2) 예측 정확도가 0.98 \n",
    "# 악성 종양(4) 예측의 정확도는 0.96이다.\n",
    "# 평균적으로 0.97의 정확도를 가진다."
   ]
  }
 ],
 "metadata": {
  "kernelspec": {
   "display_name": "Python 3",
   "language": "python",
   "name": "python3"
  },
  "language_info": {
   "codemirror_mode": {
    "name": "ipython",
    "version": 3
   },
   "file_extension": ".py",
   "mimetype": "text/x-python",
   "name": "python",
   "nbconvert_exporter": "python",
   "pygments_lexer": "ipython3",
   "version": "3.8.8"
  }
 },
 "nbformat": 4,
 "nbformat_minor": 5
}
